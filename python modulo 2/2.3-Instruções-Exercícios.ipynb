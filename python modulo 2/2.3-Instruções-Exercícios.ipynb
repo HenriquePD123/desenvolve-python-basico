{
 "cells": [
  {
   "cell_type": "markdown",
   "metadata": {
    "id": "1pCTdOHonv5f"
   },
   "source": [
    "# Módulo 2\n",
    "\n",
    "## 2.3 Instruções e Expressões\n",
    "\n",
    "### Q1\n",
    "\n",
    "Faça um programa que armazene o valor de 20 reais de salário por hora de um trabalhador, e o número de 40 horas trabalhadas na semana. Com essas informações, calcule e imprima:\n",
    "- Salário semanal bruto\n",
    "- Valor descontado por semana INSS (10% do bruto)\n",
    "- Valor descontado por semana pelo sindicato (5% do bruto)\n",
    "- Salário semanal líquido (Bruto - Descontos)"
   ]
  },
  {
   "cell_type": "code",
   "execution_count": null,
   "metadata": {
    "id": "hVbX0I97nj6M"
   },
   "outputs": [],
   "source": [
    "## Escreva e execute seu código aqui\n",
    "# Informações fornecidas\n",
    "valor_por_hora = 20  # Valor de salário por hora em reais\n",
    "horas_trabalhadas = 40  # Número de horas trabalhadas na semana\n",
    "\n",
    "# Cálculo do salário semanal bruto\n",
    "salario_semanal_bruto = valor_por_hora * horas_trabalhadas\n",
    "\n",
    "# Cálculo dos descontos\n",
    "desconto_inss = 0.10 * salario_semanal_bruto  # 10% do salário bruto\n",
    "desconto_sindicato = 0.05 * salario_semanal_bruto  # 5% do salário bruto\n",
    "\n",
    "# Cálculo do salário semanal líquido\n",
    "salario_semanal_liquido = salario_semanal_bruto - desconto_inss - desconto_sindicato\n",
    "\n",
    "# Impressão dos resultados\n",
    "print(f\"Salário semanal bruto: R$ {salario_semanal_bruto:.2f}\")\n",
    "print(f\"Valor descontado por semana INSS: R$ {desconto_inss:.2f}\")\n",
    "print(f\"Valor descontado por semana pelo sindicato: R$ {desconto_sindicato:.2f}\")\n",
    "print(f\"Salário semanal líquido: R$ {salario_semanal_liquido:.2f}\")"
   ]
  },
  {
   "cell_type": "markdown",
   "metadata": {
    "id": "pIxKX9J2oGZ1"
   },
   "source": [
    "### Q2\n",
    "\n",
    "Altere o programa anterior para a partir dos valores de horas trabalhadas por semana e salário por hora, calcular **em somente duas instruções**:\n",
    "- Salário semanal bruto\n",
    "- Salário semanal líquido com todos os descontos. Para a segunda instrução, realize todos os cálculos aritméticos em uma expressão composta.\n"
   ]
  },
  {
   "cell_type": "code",
   "execution_count": null,
   "metadata": {
    "id": "pAHw9Xf9oGoi"
   },
   "outputs": [],
   "source": [
    "## Escreva e execute seu código aqui\n",
    "# Informações fornecidas\n",
    "valor_por_hora = 20  # Valor de salário por hora em reais\n",
    "horas_trabalhadas = 40  # Número de horas trabalhadas na semana\n",
    "\n",
    "# Calcula o salário semanal bruto\n",
    "salario_semanal_bruto = valor_por_hora * horas_trabalhadas\n",
    "\n",
    "# Calcula o salário semanal líquido com todos os descontos em uma única expressão\n",
    "salario_semanal_liquido = salario_semanal_bruto * (1 - 0.10 - 0.05)\n",
    "\n",
    "# Impressão dos resultados\n",
    "print(f\"Salário semanal bruto: R$ {salario_semanal_bruto:.2f}\")\n",
    "print(f\"Salário semanal líquido: R$ {salario_semanal_liquido:.2f}\")"
   ]
  },
  {
   "cell_type": "markdown",
   "metadata": {
    "id": "m8tlHRuWpBOB"
   },
   "source": [
    "### Q3\n",
    "\n",
    "Você está desenvolvendo um software de conversão de moeda e precisa calcular o valor equivalente em yuan chinês a partir de uma quantia em real. A taxa de câmbio é de 0.69 BRL (real) para 1 CNY (yuan). Escreva um programa que define em uma variável uma quantia em reais (BRL) e calcula o valor equivalente em yuan (CNY). Imprima o resultado."
   ]
  },
  {
   "cell_type": "code",
   "execution_count": null,
   "metadata": {
    "id": "2bPw7uF6oeL9"
   },
   "outputs": [],
   "source": [
    "## Escreva e execute seu código aqui\n",
    "# Definição da quantia em reais e da taxa de câmbio\n",
    "quantia_brl = 100.00  # Exemplo de quantia em reais\n",
    "taxa_cambio = 0.69    # 1 CNY = 0.69 BRL\n",
    "\n",
    "# Cálculo do valor equivalente em yuan chinês\n",
    "valor_cny = quantia_brl / taxa_cambio\n",
    "\n",
    "# Impressão do resultado\n",
    "print(f\"Valor em yuan chinês (CNY): ¥ {valor_cny:.2f}\")"
   ]
  },
  {
   "cell_type": "markdown",
   "metadata": {
    "id": "-Na3ltDCp74A"
   },
   "source": [
    "### Q4\n",
    "\n",
    "Você é um treinador de corrida e deseja calcular a velocidade média que um atleta precisa manter para completar a Maratona Internacional de São Silvestre, que tem uma distância total de 42.195 km. A fórmula para calcular a velocidade média ($v\\_media$) é dada por $v\\_media = \\frac{distancia}{tempo}$ . Escreva um programa em Python para calcular a velocidade média necessária para completar a maratona em 3 horas.\n",
    "\n",
    "**Calcule e imprima o resultado em metros/segundo**, ou seja, converta a distância de quilômetros para metros ($metro = \\frac{km}{1000}$) e a velocidade de horas para segundos $(segundo = \\frac{hora}{3600})$."
   ]
  },
  {
   "cell_type": "code",
   "execution_count": null,
   "metadata": {
    "id": "Bn6l8kcSrE4L"
   },
   "outputs": [],
   "source": [
    "## Escreva e execute seu código aqui\n",
    "# Definições\n",
    "distancia_km = 42.195  # Distância da maratona em quilômetros\n",
    "tempo_horas = 3        # Tempo disponível em horas\n",
    "\n",
    "# Conversão de quilômetros para metros\n",
    "distancia_metros = distancia_km * 1000\n",
    "\n",
    "# Conversão de horas para segundos\n",
    "tempo_segundos = tempo_horas * 3600\n",
    "\n",
    "# Cálculo da velocidade média\n",
    "velocidade_media_mps = distancia_metros / tempo_segundos\n",
    "\n",
    "# Impressão do resultado\n",
    "print(f\"Velocidade média necessária: {velocidade_media_mps:.2f} metros/segundo\")"
   ]
  }
 ],
 "metadata": {
  "colab": {
   "provenance": []
  },
  "kernelspec": {
   "display_name": "Python 3 (ipykernel)",
   "language": "python",
   "name": "python3"
  },
  "language_info": {
   "codemirror_mode": {
    "name": "ipython",
    "version": 3
   },
   "file_extension": ".py",
   "mimetype": "text/x-python",
   "name": "python",
   "nbconvert_exporter": "python",
   "pygments_lexer": "ipython3",
   "version": "3.11.7"
  }
 },
 "nbformat": 4,
 "nbformat_minor": 4
}
