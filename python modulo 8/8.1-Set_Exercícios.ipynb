{
 "cells": [
  {
   "cell_type": "markdown",
   "id": "0d5035b5",
   "metadata": {},
   "source": [
    "# Set\n",
    "\n",
    "## Aula 8.1"
   ]
  },
  {
   "cell_type": "markdown",
   "id": "0bdece85",
   "metadata": {},
   "source": [
    "### Q1. \n",
    "\n",
    "Dada uma string qualquer, use seu conhecimento de sets para apresentar os caracteres únicos que aparecem na string, ordenados alfabeticamente e sem duplicatas. Preste atenção em duplicatas de maiúsculas e minúsculas.\n"
   ]
  },
  {
   "cell_type": "code",
   "execution_count": null,
   "id": "0a258eba",
   "metadata": {},
   "outputs": [],
   "source": [
    "frase = \"O rato roeu a roupa do Robson\"\n",
    "\n",
    "## Implemente aqui sua solução\n",
    "def caracteres_unicos_ordenados(frase):\n",
    "    # Convertemos a string para minúsculas para garantir que maiúsculas e minúsculas sejam tratadas como iguais\n",
    "    frase = frase.lower()\n",
    "    \n",
    "    # Criamos um conjunto de caracteres únicos\n",
    "    caracteres_unicos = set(frase)\n",
    "    \n",
    "    # Removemos espaços e ordenamos os caracteres\n",
    "    caracteres_unicos = sorted(caracteres_unicos - {' '})\n",
    "    \n",
    "    # Convertendo a lista de volta para uma string\n",
    "    resultado = ''.join(caracteres_unicos)\n",
    "    \n",
    "    return resultado\n",
    "\n",
    "# Exemplo de uso\n",
    "frase = \"O rato roeu a roupa do Robson\"\n",
    "resultado = caracteres_unicos_ordenados(frase)\n",
    "print(resultado)\n"
   ]
  },
  {
   "cell_type": "markdown",
   "id": "0856bd56",
   "metadata": {},
   "source": [
    "### Q2\n",
    "\n",
    "Desenvolva uma função em Python chamada ```tem_elementos_comuns()``` que recebe duas listas como parâmetros e retorna True se houver algum elemento comum entre as duas listas, e False caso contrário. Utilize sets para resolver essa tarefa."
   ]
  },
  {
   "cell_type": "code",
   "execution_count": null,
   "id": "f7ab6736",
   "metadata": {},
   "outputs": [],
   "source": [
    "# Implemente aqui a função tem_elementos_comuns()\n",
    "\n"
   ]
  },
  {
   "cell_type": "code",
   "execution_count": null,
   "id": "1022744a",
   "metadata": {},
   "outputs": [],
   "source": [
    "# Execute esta célula para testar a função da Q2.\n",
    "\n",
    "lista1 = [1, 2, 3, 4]\n",
    "lista2 = [3, 4, 5, 6, 7]\n",
    "resultado = tem_elementos_comuns(lista1, lista2)\n",
    "print(resultado)  # Saída esperada: True\n",
    "def tem_elementos_comuns(lista1, lista2):\n",
    "    # Convertendo listas em conjuntos\n",
    "    conjunto1 = set(lista1)\n",
    "    conjunto2 = set(lista2)\n",
    "    \n",
    "    # Verificando se há interseção\n",
    "    return not conjunto1.isdisjoint(conjunto2)\n",
    "\n",
    "# Exemplo de uso\n",
    "lista1 = [1, 2, 3, 4]\n",
    "lista2 = [3, 4, 5, 6, 7]\n",
    "resultado = tem_elementos_comuns(lista1, lista2)\n",
    "print(resultado)  # Saída esperada: True"
   ]
  },
  {
   "cell_type": "markdown",
   "id": "649a5082",
   "metadata": {},
   "source": [
    "### Q3. \n",
    "\n",
    "Você vai coletar de diferentes turmas de alunos seus interesses em atividades extra curriculares dentre futebol, vôlei, rugby, música, teatro, ações comunitárias. Informe o conjunto de atividades comuns a todas a turmas. Pode preencher o iterável turmas com valores arbitrários. \n"
   ]
  },
  {
   "cell_type": "code",
   "execution_count": null,
   "id": "880a9927",
   "metadata": {},
   "outputs": [],
   "source": [
    "turmas = [\n",
    "     {'ações comunitárias', 'futebol', 'música', 'rugby'},\n",
    "     {'ações comunitárias', 'música', 'rugby', 'teatro'},\n",
    "     {'música', 'rugby', 'teatro', 'vôlei'},\n",
    "     {'música', 'vôlei', 'rugby'},\n",
    "     {'ações comunitárias', 'futebol', 'rugby', 'teatro', 'vôlei'},\n",
    "     {'ações comunitárias', 'futebol', 'rugby'},\n",
    "     {'ações comunitárias', 'rugby', 'teatro', 'vôlei'},\n",
    "     {'ações comunitárias', 'rugby', 'teatro', 'vôlei'},\n",
    "     {'ações comunitárias', 'rugby', 'vôlei'}\n",
    "]\n",
    "\n",
    "\n",
    "## Implemente aqui sua solução\n",
    "def atividades_comuns(turmas):\n",
    "    # Verifica se a lista de turmas não está vazia\n",
    "    if not turmas:\n",
    "        return set()\n",
    "\n",
    "    # Inicia com o conjunto da primeira turma\n",
    "    atividades_comuns = turmas[0]\n",
    "\n",
    "    # Intersecta com os conjuntos das demais turmas\n",
    "    for turma in turmas[1:]:\n",
    "        atividades_comuns &= turma\n",
    "\n",
    "    return atividades_comuns\n",
    "\n",
    "# Exemplo de uso\n",
    "turmas = [\n",
    "     {'ações comunitárias', 'futebol', 'música', 'rugby'},\n",
    "     {'ações comunitárias', 'música', 'rugby', 'teatro'},\n",
    "     {'música', 'rugby', 'teatro', 'vôlei'},\n",
    "     {'música', 'vôlei', 'rugby'},\n",
    "     {'ações comunitárias', 'futebol', 'rugby', 'teatro', 'vôlei'},\n",
    "     {'ações comunitárias', 'futebol', 'rugby'},\n",
    "     {'ações comunitárias', 'rugby', 'teatro', 'vôlei'},\n",
    "     {'ações comunitárias', 'rugby', 'teatro', 'vôlei'},\n",
    "     {'ações comunitárias', 'rugby', 'vôlei'}\n",
    "]\n",
    "\n",
    "# Encontrar e imprimir as atividades comuns a todas as turmas\n",
    "comuns = atividades_comuns(turmas)\n",
    "print(comuns)  # Saída esperada: {'rugby', 'ações comunitárias'}\n",
    "\n"
   ]
  },
  {
   "cell_type": "markdown",
   "id": "021e2b1e",
   "metadata": {},
   "source": [
    "### Q4. \n",
    "Considere duas listas que são duplicatas uma da outra, exceto por um elemento, exemplo:\n",
    "```\n",
    "A = [1, 4, 5, 7, 9]\n",
    "B = [4, 5, 7, 9]\n",
    "```\n",
    "\n",
    "Encontre e apresente o elemento diferente, informando também qual das listas está desfalcada. Para o exemplo acima, a saída esperada é\n",
    "```\n",
    "O elemento 1 está faltando na segunda lista\n",
    "```"
   ]
  },
  {
   "cell_type": "code",
   "execution_count": null,
   "id": "608761a4",
   "metadata": {},
   "outputs": [],
   "source": [
    "## Implemente aqui sua solução\n",
    "def encontrar_elemento_diferente(lista1, lista2):\n",
    "    # Converte as listas em conjuntos para encontrar a diferença\n",
    "    set1 = set(lista1)\n",
    "    set2 = set(lista2)\n",
    "    \n",
    "    # Encontra a diferença entre os conjuntos\n",
    "    dif1 = set1 - set2\n",
    "    dif2 = set2 - set1\n",
    "    \n",
    "    if dif1:\n",
    "        elemento_faltando = dif1.pop()\n",
    "        lista_desfalcada = \"segunda\"\n",
    "    else:\n",
    "        elemento_faltando = dif2.pop()\n",
    "        lista_desfalcada = \"primeira\"\n",
    "    \n",
    "    return elemento_faltando, lista_desfalcada\n",
    "\n",
    "# Exemplo de uso\n",
    "A = [1, 4, 5, 7, 9]\n",
    "B = [4, 5, 7, 9]\n",
    "\n",
    "elemento, lista = encontrar_elemento_diferente(A, B)\n",
    "print(f\"O elemento {elemento} está faltando na {lista} lista\")"
   ]
  },
  {
   "cell_type": "markdown",
   "id": "ddf180c1",
   "metadata": {},
   "source": [
    "### Q5.\n",
    "\n",
    "Panagramas são frases que contém todas as letras do alfabeto pelo menos uma vez. Crie uma função ```checa_panagrama``` que recebe uma string e retorna ```True``` caso seja um panagrama ou ```False```caso contrário. Use seu conhecimento de sets para solucionar essa questão.\n",
    "\n",
    "Ex: \n",
    "```\n",
    "Entrada: \"The quick brown fox jumps over the lazy dog\" \n",
    "Saída: É um panagrama\n",
    "```\n",
    "\n",
    "```\n",
    "Entrada: \"Python é uma linguagem de programação\" \n",
    "Saída: Não é um panagrama\n",
    "```"
   ]
  },
  {
   "cell_type": "code",
   "execution_count": null,
   "id": "4e8b0390",
   "metadata": {},
   "outputs": [],
   "source": [
    "## Implemente aqui sua solução\n",
    "def checa_panagrama(frase):\n",
    "    # Definir o conjunto de todas as letras do alfabeto em minúsculas\n",
    "    alfabeto = set('abcdefghijklmnopqrstuvwxyz')\n",
    "    \n",
    "    # Converter a frase para minúsculas e criar um conjunto com as letras únicas da frase\n",
    "    letras_na_frase = set(frase.lower())\n",
    "    \n",
    "    # Verificar se todas as letras do alfabeto estão presentes nas letras da frase\n",
    "    if alfabeto.issubset(letras_na_frase):\n",
    "        return True\n",
    "    else:\n",
    "        return False\n",
    "\n",
    "# Exemplo de uso:\n",
    "entrada1 = \"The quick brown fox jumps over the lazy dog\"\n",
    "entrada2 = \"Python é uma linguagem de programação\"\n",
    "\n",
    "print(\"É um panagrama\" if checa_panagrama(entrada1) else \"Não é um panagrama\")\n",
    "print(\"É um panagrama\" if checa_panagrama(entrada2) else \"Não é um panagrama\")"
   ]
  }
 ],
 "metadata": {
  "kernelspec": {
   "display_name": "Python 3 (ipykernel)",
   "language": "python",
   "name": "python3"
  },
  "language_info": {
   "codemirror_mode": {
    "name": "ipython",
    "version": 3
   },
   "file_extension": ".py",
   "mimetype": "text/x-python",
   "name": "python",
   "nbconvert_exporter": "python",
   "pygments_lexer": "ipython3",
   "version": "3.11.7"
  }
 },
 "nbformat": 4,
 "nbformat_minor": 5
}
