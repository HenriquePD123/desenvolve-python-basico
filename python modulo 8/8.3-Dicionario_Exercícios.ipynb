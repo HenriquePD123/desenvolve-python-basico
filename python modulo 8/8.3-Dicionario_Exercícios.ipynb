{
 "cells": [
  {
   "cell_type": "markdown",
   "id": "0d5035b5",
   "metadata": {},
   "source": [
    "# Dicionários\n",
    "\n",
    "## Aula 8.3"
   ]
  },
  {
   "cell_type": "markdown",
   "id": "0bdece85",
   "metadata": {},
   "source": [
    "### Q1. \n",
    "\n",
    "Escreva uma função em Python chamada ```contagem_caracteres``` que recebe uma string como parâmetro e retorna um dicionário onde as chaves são os caracteres presentes na string e os valores são a contagem de cada caractere.\n"
   ]
  },
  {
   "cell_type": "code",
   "execution_count": null,
   "id": "09a9845d",
   "metadata": {},
   "outputs": [],
   "source": [
    "# Implemente aqui a função contagem_caracteres\n",
    "def contagem_caracteres(frase):\n",
    "    # Inicializa um dicionário vazio para armazenar a contagem dos caracteres\n",
    "    contagem = {}\n",
    "    \n",
    "    # Itera sobre cada caractere na string\n",
    "    for caractere in frase:\n",
    "        # Se o caractere já estiver no dicionário, incrementa a contagem\n",
    "        if caractere in contagem:\n",
    "            contagem[caractere] += 1\n",
    "        # Se o caractere não estiver no dicionário, adiciona com contagem 1\n",
    "        else:\n",
    "            contagem[caractere] = 1\n",
    "            \n",
    "    return contagem\n",
    "\n",
    "# Exemplo de uso\n",
    "frase = \"python programming\"\n",
    "resultado = contagem_caracteres(frase)\n",
    "print(resultado)"
   ]
  },
  {
   "cell_type": "code",
   "execution_count": null,
   "id": "0a258eba",
   "metadata": {},
   "outputs": [],
   "source": [
    "# Exemplo de uso:\n",
    "frase = \"python programming\"\n",
    "resultado = contagem_caracteres(frase)\n",
    "print(resultado)"
   ]
  },
  {
   "cell_type": "markdown",
   "id": "649a5082",
   "metadata": {},
   "source": [
    "### Q2. \n",
    "\n",
    "Baixe o arquivo contendo o roteiro do filme brasileiro \"Estômago\" e salve em seu computador com o nome \"estomago.txt\".\n",
    "\n",
    "https://aplauso.imprensaoficial.com.br/edicoes/12.0.813.502/12.0.813.502.txt\n",
    "\n",
    "- Escreva um script python que abre o arquivo de texto e cria um dicionário contando a quantidade de vezes que cada palavra aparece no texto.\n",
    "- Em seguida ordene o dicionário de forma decrescente pelos valores. Dessa maneira ele irá apresentar as palavras mais frequentes no início.\n",
    "- Apresente na tela o dicionário ordenado\n"
   ]
  },
  {
   "cell_type": "code",
   "execution_count": null,
   "id": "47cb0573",
   "metadata": {},
   "outputs": [],
   "source": [
    "# Implemente aqui sua solução\n",
    "from collections import Counter\n",
    "import re\n",
    "\n",
    "def contar_palavras(nome_arquivo):\n",
    "    # Abre o arquivo para leitura\n",
    "    with open(nome_arquivo, 'r', encoding='latin-1') as arquivo:\n",
    "        # Lê o conteúdo do arquivo\n",
    "        conteudo = arquivo.read()\n",
    "        \n",
    "        # Remove caracteres não alfabéticos e divide o texto em palavras\n",
    "        palavras = re.findall(r'\\b\\w+\\b', conteudo.lower())\n",
    "        \n",
    "        # Conta a frequência de cada palavra\n",
    "        contador_palavras = Counter(palavras)\n",
    "        \n",
    "        # Ordena o dicionário pela frequência das palavras (valores) em ordem decrescente\n",
    "        palavras_ordenadas = dict(sorted(contador_palavras.items(), key=lambda item: item[1], reverse=True))\n",
    "        \n",
    "        return palavras_ordenadas\n",
    "\n",
    "# Nome do arquivo\n",
    "nome_arquivo = 'estomago.txt'\n",
    "\n",
    "# Chama a função e obtém o dicionário ordenado\n",
    "dicionario_palavras = contar_palavras(nome_arquivo)\n",
    "\n",
    "# Imprime o dicionário ordenado\n",
    "for palavra, frequencia in dicionario_palavras.items():\n",
    "    print(f'{palavra}: {frequencia}')"
   ]
  },
  {
   "cell_type": "markdown",
   "id": "bb62d219",
   "metadata": {},
   "source": [
    "### Q3. \n",
    "\n",
    "Crie uma função chamada ```mesclar_dicionarios``` que recebe dois dicionários como parâmetros e retorna um novo dicionário contendo a fusão dos dois. Se houver chaves comuns, o maior valor deve prevalecer."
   ]
  },
  {
   "cell_type": "code",
   "execution_count": null,
   "id": "f4363612",
   "metadata": {},
   "outputs": [],
   "source": [
    "# Implemente aqui a função mesclar_dicionarios\n",
    "def mesclar_dicionarios(d1, d2):\n",
    "    # Cria um novo dicionário para armazenar a fusão\n",
    "    d3 = {}\n",
    "\n",
    "    # Adiciona todas as chaves e valores do primeiro dicionário\n",
    "    for chave, valor in d1.items():\n",
    "        d3[chave] = valor\n",
    "\n",
    "    # Adiciona todas as chaves e valores do segundo dicionário\n",
    "    for chave, valor in d2.items():\n",
    "        # Se a chave já existir no dicionário, mantém o maior valor\n",
    "        if chave in d3:\n",
    "            d3[chave] = max(d3[chave], valor)\n",
    "        else:\n",
    "            d3[chave] = valor\n",
    "\n",
    "    return d3\n",
    "\n",
    "# Exemplo de uso\n",
    "dicionario1 = {'a': 1, 'b': 2, 'c': 3}\n",
    "dicionario2 = {'b': 4, 'd': 5}\n",
    "resultado = mesclar_dicionarios(dicionario1, dicionario2)\n",
    "print(resultado)  # Saída esperada: {'a': 1, 'b': 4, 'c': 3, 'd': 5}"
   ]
  },
  {
   "cell_type": "code",
   "execution_count": null,
   "id": "add41556",
   "metadata": {},
   "outputs": [],
   "source": [
    "# Exemplo de uso:\n",
    "dicionario1 = {'a': 1, 'b': 2, 'c': 3}\n",
    "dicionario2 = {'b': 4, 'd': 5}\n",
    "resultado = mesclar_dicionarios(dicionario1, dicionario2)\n",
    "print(resultado)\n",
    "# Saída esperada: {'a': 1, 'b': 4, 'c': 3, 'd': 5}"
   ]
  },
  {
   "cell_type": "markdown",
   "id": "8710b1a7",
   "metadata": {},
   "source": [
    "### Q4.\n",
    "\n",
    "Desenvolva uma função em Python chamada ```filtrar_dicionario``` que recebe um dicionário e uma lista de chaves como parâmetros e retorna um novo dicionário contendo apenas as chaves que estão presentes na lista."
   ]
  },
  {
   "cell_type": "code",
   "execution_count": null,
   "id": "0b7ee921",
   "metadata": {},
   "outputs": [],
   "source": [
    "# Implemente aqui a função filtrar_dicionario\n",
    "def filtrar_dicionario(dicionario, chaves):\n",
    "    # Cria um novo dicionário contendo apenas as chaves filtradas\n",
    "    resultado = {chave: dicionario[chave] for chave in chaves if chave in dicionario}\n",
    "    return resultado\n",
    "\n",
    "# Exemplo de uso\n",
    "dados = {'a': 1, 'b': 2, 'c': 3, 'd': 4, 'e': 5}\n",
    "chaves_filtradas = ['a', 'c', 'e']\n",
    "resultado = filtrar_dicionario(dados, chaves_filtradas)\n",
    "print(resultado)  # Saída esperada: {'a': 1, 'c': 3, 'e': 5}"
   ]
  },
  {
   "cell_type": "code",
   "execution_count": null,
   "id": "ebc131f6",
   "metadata": {},
   "outputs": [],
   "source": [
    "# Exemplo de uso:\n",
    "dados = {'a': 1, 'b': 2, 'c': 3, 'd': 4, 'e': 5}\n",
    "chaves_filtradas = ['a', 'c', 'e']\n",
    "resultado = filtrar_dicionario(dados, chaves_filtradas)\n",
    "print(resultado)\n",
    "# Saída esperada: {'a': 1, 'c': 3, 'e': 5}"
   ]
  },
  {
   "cell_type": "markdown",
   "id": "3203c51e",
   "metadata": {},
   "source": [
    "### Q5.\n",
    "\n",
    "Você está responsável por analisar os resultados de uma votação. Cada voto é representado por um dicionário com o nome do candidato e a quantidade de votos que recebeu em uma determinada sessão eleitoral. Escreva uma função chamada ```resultado_votacao``` que recebe uma lista de dicionários de votos e retorna um dicionário onde as chaves são os nomes dos candidatos, e os valores são tuplas ```(total, percentual)``` com o total de votos recebidos por cada candidato e o percentual em relação à soma total de votos em todos os candidatos. "
   ]
  },
  {
   "cell_type": "code",
   "execution_count": null,
   "id": "2c856eee",
   "metadata": {},
   "outputs": [],
   "source": [
    "# Implemente aqui a função resultado_votacao\n",
    "def resultado_votacao(votos):\n",
    "    # Inicializa um dicionário para armazenar o total de votos para cada candidato\n",
    "    totais = {}\n",
    "    \n",
    "    # Itera sobre cada dicionário na lista de votos\n",
    "    for sessao in votos:\n",
    "        for candidato, quantidade in sessao.items():\n",
    "            if candidato in totais:\n",
    "                totais[candidato] += quantidade\n",
    "            else:\n",
    "                totais[candidato] = quantidade\n",
    "    \n",
    "    # Calcula o total geral de votos\n",
    "    total_votos = sum(totais.values())\n",
    "    \n",
    "    # Calcula o percentual e cria o dicionário final\n",
    "    resultado = {}\n",
    "    for candidato, total in totais.items():\n",
    "        percentual = (total / total_votos) * 100\n",
    "        resultado[candidato] = (total, round(percentual, 2))\n",
    "    \n",
    "    return resultado\n",
    "\n",
    "# Exemplo de uso\n",
    "votos = [\n",
    "    {'candidato_A': 120, 'candidato_B': 85, 'candidato_C': 90},\n",
    "    {'candidato_A': 110, 'candidato_B': 95, 'candidato_C': 80},\n",
    "    {'candidato_A': 130, 'candidato_B': 78, 'candidato_C': 105},\n",
    "]\n",
    "\n",
    "resultado = resultado_votacao(votos)\n",
    "print(resultado)  \n",
    "# Saída esperada: {'candidato_A': (360, 40.31), 'candidato_B': (258, 28.89), 'candidato_C': (275, 30.79)}"
   ]
  },
  {
   "cell_type": "code",
   "execution_count": null,
   "id": "ff2044de",
   "metadata": {},
   "outputs": [],
   "source": [
    "# Exemplo de uso:\n",
    "votos = [\n",
    "    {'candidato_A': 120, 'candidato_B': 85, 'candidato_C': 90},\n",
    "    {'candidato_A': 110, 'candidato_B': 95, 'candidato_C': 80},\n",
    "    {'candidato_A': 130, 'candidato_B': 78, 'candidato_C': 105},\n",
    "]\n",
    "resultado = resultado_votacao(votos)\n",
    "print(resultado)  # Saída esperada: {'candidato_A': (360, 40.31), 'candidato_B': (258, 28.89), \n",
    "                                ###  'candidato_C': (275, 30.79)}"
   ]
  }
 ],
 "metadata": {
  "kernelspec": {
   "display_name": "Python 3 (ipykernel)",
   "language": "python",
   "name": "python3"
  },
  "language_info": {
   "codemirror_mode": {
    "name": "ipython",
    "version": 3
   },
   "file_extension": ".py",
   "mimetype": "text/x-python",
   "name": "python",
   "nbconvert_exporter": "python",
   "pygments_lexer": "ipython3",
   "version": "3.11.7"
  }
 },
 "nbformat": 4,
 "nbformat_minor": 5
}
